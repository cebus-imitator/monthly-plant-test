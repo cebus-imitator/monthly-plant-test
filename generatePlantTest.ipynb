{
 "cells": [
  {
   "cell_type": "markdown",
   "id": "8776c2d1-722b-4e14-8b78-4b3f50f45bd4",
   "metadata": {},
   "source": [
    "## Monthly Plant ID test\n",
    "\n"
   ]
  },
  {
   "cell_type": "code",
   "execution_count": null,
   "id": "1326c45f",
   "metadata": {},
   "outputs": [],
   "source": [
    "# load libraries\n",
    "import os\n",
    "import pandas as pd\n",
    "import matplotlib.pyplot as plt\n",
    "import matplotlib.image as mpimg\n",
    "import random\n",
    "\n",
    "from IPython.display import display, HTML\n",
    "display(HTML(\"<style>div.output_scroll { height: 50em; }</style>\"))\n",
    "\n",
    "monero = input(\"Enter your 3-letter code: \").upper()\n",
    "month = input(\"Enter test month (as integer): \")\n",
    "\n",
    "fruit = pd.read_excel(\"fruits_top30_by_month.xlsx\", keep_default_na = False)\n",
    "fruit = fruit[(fruit['Month'].astype(str)==month)]\n",
    "fruit = list(set(fruit.plant))\n",
    "random.shuffle(fruit)\n",
    "\n",
    "pictures = os.listdir(\"plants/\")\n",
    "\n",
    "answers = {}\n",
    "\n",
    "for f in fruit:\n",
    "    print(\"++++++++++++++++++++++++++++++\")\n",
    "    pics = [x for x in pictures if x[0:2]==f][0:6]\n",
    "    random.shuffle(pics)\n",
    "    if len(pics) > 0:\n",
    "        fig, axarr = plt.subplots(2,3, figsize=(15, 10))\n",
    "        for i in range(0,len(pics)):\n",
    "            img = mpimg.imread(f\"plants/{pics[i]}\")\n",
    "            if i < 3:\n",
    "                row = 0\n",
    "                col = i\n",
    "            else:\n",
    "                row = 1\n",
    "                col = i - 3\n",
    "            axarr[row,col].imshow(img)\n",
    "        plt.show()\n",
    "        choice = input(\"Enter 2-letter code of plant: \")\n",
    "        entry = {f : choice}\n",
    "        answers.update(entry)\n",
    "        plt.close()\n",
    "    else:\n",
    "        print(f\"no photos available for {f}\")\n",
    "\n",
    "df = pd.DataFrame(answers.items(), columns=['plant', f\"answer\"])\n",
    "df['answer'] = df['answer'].str.upper()\n",
    "df['incorrect'] = ''\n",
    "df.loc[df['plant']!=df['answer'], \"incorrect\"] = \"X\"\n",
    "print(\"\")\n",
    "print(df)\n",
    "\n",
    "df.to_excel(f\"tests/MonthlyPlantTest_{month}_{monero}.xlsx\", index=False)"
   ]
  },
  {
   "cell_type": "code",
   "execution_count": null,
   "id": "1db1d271",
   "metadata": {},
   "outputs": [],
   "source": []
  }
 ],
 "metadata": {
  "kernelspec": {
   "display_name": "Python 3 (ipykernel)",
   "language": "python",
   "name": "python3"
  },
  "language_info": {
   "codemirror_mode": {
    "name": "ipython",
    "version": 3
   },
   "file_extension": ".py",
   "mimetype": "text/x-python",
   "name": "python",
   "nbconvert_exporter": "python",
   "pygments_lexer": "ipython3",
   "version": "3.8.13"
  }
 },
 "nbformat": 4,
 "nbformat_minor": 5
}
