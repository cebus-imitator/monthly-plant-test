{
 "cells": [
  {
   "cell_type": "markdown",
   "id": "89443b17-24ee-4b42-a4fa-1dbfaaa70e6d",
   "metadata": {},
   "source": [
    "Run the cell below to start your quiz..."
   ]
  },
  {
   "cell_type": "code",
   "execution_count": null,
   "id": "eec454a7",
   "metadata": {
    "jupyter": {
     "source_hidden": true
    },
    "tags": []
   },
   "outputs": [],
   "source": [
    "from IPython.display import display, HTML\n",
    "from IPython.display import clear_output\n",
    "display(HTML(\"<style>div.output_scroll { height: 55em; }</style>\"))\n",
    "\n",
    "# load libraries\n",
    "import os\n",
    "import sys\n",
    "import pandas as pd\n",
    "import matplotlib.pyplot as plt\n",
    "import matplotlib.image as mpimg\n",
    "import random\n",
    "\n",
    "monero = input(\"Enter your 3-letter observer code: \").upper()\n",
    "month = input(\"Enter test month as integer (e.g., 3): \")\n",
    "\n",
    "fruit = pd.read_csv(\"fruits_top30_by_month.csv\", keep_default_na = False)\n",
    "fruit = fruit[(fruit['Month'].astype(str)==month)]\n",
    "fruit = list(set(fruit.plant))\n",
    "random.shuffle(fruit)\n",
    "\n",
    "pictures = os.listdir(\"plants/\")\n",
    "\n",
    "answers = {}\n",
    "\n",
    "for f in fruit:\n",
    "    print(\"=======================================\")\n",
    "    print(f\"{fruit.index(f)+1} of {len(fruit)}\")\n",
    "    pics = [x for x in pictures if x[0:2]==f][0:6]\n",
    "    random.shuffle(pics)\n",
    "    if len(pics) > 0:\n",
    "        fig, axarr = plt.subplots(2,3, figsize=(18, 12))\n",
    "        for i in range(0,len(pics)):\n",
    "            img = mpimg.imread(f\"plants/{pics[i]}\")\n",
    "            if i < 3:\n",
    "                row, col = 0, i\n",
    "            else:\n",
    "                row, col = 1, i - 3\n",
    "            axarr[row,col].imshow(img)\n",
    "        plt.show()\n",
    "        choice = input(\"Enter 2-letter code of plant: \").upper()\n",
    "        entry = {f : choice}\n",
    "        answers.update(entry)\n",
    "        plt.close()\n",
    "        clear_output(wait=True)\n",
    "    else:\n",
    "        print(f\"no photos available for {f}\")\n",
    "\n",
    "df = pd.DataFrame(answers.items(), columns=['key', 'response'])\n",
    "df['score'], df['month'], df['ohh'] = 1, month, monero\n",
    "df.loc[df['key']!=df['response'], \"score\"] = 0\n",
    "\n",
    "score = round(df[\"score\"].sum()/len(df), 3)\n",
    "print(f\"Your score: {score}\")\n",
    "print(\"Goodbye, and have a nice day!\")\n",
    "\n",
    "df = df[['month','ohh','score','key','response']]\n",
    "df"
   ]
  },
  {
   "cell_type": "markdown",
   "id": "17d5ee3b-0237-4d78-95b5-eee61667d7bb",
   "metadata": {},
   "source": []
  },
  {
   "cell_type": "markdown",
   "id": "b96f396b-88dc-40ea-b48e-deda36c108d2",
   "metadata": {},
   "source": []
  },
  {
   "cell_type": "markdown",
   "id": "72ec6950-0fb6-4597-ab25-aeefdb18928e",
   "metadata": {},
   "source": [
    "After completing your quiz, \n",
    "run the cell below if you would like to review your incorrect choices..."
   ]
  },
  {
   "cell_type": "code",
   "execution_count": null,
   "id": "bdf8364e-5590-41ba-958e-cd0d80f966a7",
   "metadata": {
    "jupyter": {
     "source_hidden": true
    },
    "tags": []
   },
   "outputs": [],
   "source": [
    "# subset to incorrect answers\n",
    "rev = df[(df['score']==0)].copy().reset_index(drop=True)\n",
    "\n",
    "if len(rev)==0:\n",
    "    print(\"Nothing to review. You got them all correct! :)\")\n",
    "else:\n",
    "    # print dataframe of incorrect answers\n",
    "    print(\"incorrect answers\")\n",
    "    print(\"\")\n",
    "    print(rev)\n",
    "    print(\"\")\n",
    "\n",
    "    # generate list of incorrect answers\n",
    "    lst = list(set(rev['key']))\n",
    "\n",
    "    # loop over incorrect answers\n",
    "    for f in lst:\n",
    "        print(\"=============================================\")\n",
    "        line = rev[(rev['key']==f)].reset_index(drop=True)\n",
    "        print(f\"Correct answer: {line['key'][0]}. Your answer was: {line['response'][0]}\")\n",
    "        print(f\"{lst.index(f)+1} of {len(lst)} incorrect answers\")\n",
    "        pics = [x for x in pictures if x[0:2]==f][0:6]\n",
    "        random.shuffle(pics)\n",
    "        fig, axarr = plt.subplots(2,3, figsize=(18, 12))\n",
    "        for i in range(0,len(pics)):\n",
    "            img = mpimg.imread(f\"plants/{pics[i]}\")\n",
    "            if i < 3:\n",
    "                row, col = 0, i\n",
    "            else:\n",
    "                row, col = 1, i - 3\n",
    "            axarr[row,col].imshow(img)\n",
    "        plt.show()\n",
    "        #input(\"Hit any key to continue...\")\n",
    "        plt.close()"
   ]
  }
 ],
 "metadata": {
  "celltoolbar": "Tags",
  "kernelspec": {
   "display_name": "Python 3 (ipykernel)",
   "language": "python",
   "name": "python3"
  },
  "language_info": {
   "codemirror_mode": {
    "name": "ipython",
    "version": 3
   },
   "file_extension": ".py",
   "mimetype": "text/x-python",
   "name": "python",
   "nbconvert_exporter": "python",
   "pygments_lexer": "ipython3",
   "version": "3.8.13"
  }
 },
 "nbformat": 4,
 "nbformat_minor": 5
}
