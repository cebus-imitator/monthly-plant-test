{
 "cells": [
  {
   "cell_type": "markdown",
   "id": "8776c2d1-722b-4e14-8b78-4b3f50f45bd4",
   "metadata": {},
   "source": [
    "## Monthly Plant ID test\n",
    "\n"
   ]
  },
  {
   "cell_type": "code",
   "execution_count": null,
   "id": "eec454a7",
   "metadata": {
    "tags": [
     "hide_code"
    ]
   },
   "outputs": [],
   "source": [
    "# load libraries\n",
    "from IPython.display import display, HTML\n",
    "from IPython.display import clear_output\n",
    "\n",
    "display(HTML('''<script>\n",
    "code_show=true; \n",
    "function code_toggle() {\n",
    " if (code_show){\n",
    " $('div.input').hide();\n",
    " } else {\n",
    " $('div.input').show();\n",
    " }\n",
    " code_show = !code_show\n",
    "} \n",
    "$( document ).ready(code_toggle);\n",
    "</script>\n",
    "<form action=\"javascript:code_toggle()\"><input type=\"submit\" value=\"Click here to toggle on/off the raw code.\"></form>'''))\n",
    "\n",
    "display(HTML(\"<style>div.output_scroll { height: 55em; }</style>\"))\n",
    "\n",
    "import os\n",
    "import sys\n",
    "import pandas as pd\n",
    "import matplotlib.pyplot as plt\n",
    "import matplotlib.image as mpimg\n",
    "import random\n",
    "\n",
    "month = input(\"Enter test month as integer (e.g., 3): \")\n",
    "\n",
    "fruit = pd.read_csv(\"fruits_top30_by_month.csv\", keep_default_na = False)\n",
    "fruit = fruit[(fruit['Month'].astype(str)==month)]\n",
    "fruit = list(set(fruit.plant))\n",
    "random.shuffle(fruit)\n",
    "\n",
    "pictures = os.listdir(\"plants/\")\n",
    "\n",
    "answers = {}\n",
    "\n",
    "for f in fruit:\n",
    "    print(\"++++++++++++++++++++++++++++++\")\n",
    "    pics = [x for x in pictures if x[0:2]==f][0:6]\n",
    "    random.shuffle(pics)\n",
    "    if len(pics) > 0:\n",
    "        fig, axarr = plt.subplots(2,3, figsize=(15, 10))\n",
    "        for i in range(0,len(pics)):\n",
    "            img = mpimg.imread(f\"plants/{pics[i]}\")\n",
    "            if i < 3:\n",
    "                row = 0\n",
    "                col = i\n",
    "            else:\n",
    "                row = 1\n",
    "                col = i - 3\n",
    "            axarr[row,col].imshow(img)\n",
    "        plt.show()\n",
    "        choice = input(\"Enter 2-letter code of plant: \")\n",
    "        entry = {f : choice}\n",
    "        answers.update(entry)\n",
    "        plt.close()\n",
    "        clear_output(wait=True)\n",
    "    else:\n",
    "        print(f\"no photos available for {f}\")\n",
    "\n",
    "df = pd.DataFrame(answers.items(), columns=['plant', f\"answer\"])\n",
    "df['answer'] = df['answer'].str.upper()\n",
    "df['score'] = 1\n",
    "df['month'] = month\n",
    "df.loc[df['plant']!=df['answer'], \"score\"] = 0\n",
    "\n",
    "score = df[\"score\"].sum()/len(df)\n",
    "print(f\"Your score: {score}\")\n",
    "print(\"Goodbye, and have a nice day!\")\n",
    "\n",
    "df = df[['month','plant','answer','score']]\n",
    "df"
   ]
  }
 ],
 "metadata": {
  "kernelspec": {
   "display_name": "Python 3 (ipykernel)",
   "language": "python",
   "name": "python3"
  },
  "language_info": {
   "codemirror_mode": {
    "name": "ipython",
    "version": 3
   },
   "file_extension": ".py",
   "mimetype": "text/x-python",
   "name": "python",
   "nbconvert_exporter": "python",
   "pygments_lexer": "ipython3",
   "version": "3.8.13"
  }
 },
 "nbformat": 4,
 "nbformat_minor": 5
}
