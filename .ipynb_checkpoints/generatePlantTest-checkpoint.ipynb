{
 "cells": [
  {
   "cell_type": "code",
   "execution_count": null,
   "id": "eec454a7",
   "metadata": {
    "jupyter": {
     "source_hidden": true
    },
    "tags": []
   },
   "outputs": [],
   "source": [
    "from IPython.display import display, HTML\n",
    "from IPython.display import clear_output\n",
    "display(HTML(\"<style>div.output_scroll { height: 55em; }</style>\"))\n",
    "\n",
    "# load libraries\n",
    "import os\n",
    "import sys\n",
    "import pandas as pd\n",
    "import matplotlib.pyplot as plt\n",
    "import matplotlib.image as mpimg\n",
    "import random\n",
    "\n",
    "monero = input(\"Enter your 3-letter observer code: \").upper()\n",
    "month = input(\"Enter test month as integer (e.g., 3): \")\n",
    "\n",
    "fruit = pd.read_csv(\"fruits_top30_by_month.csv\", keep_default_na = False)\n",
    "fruit = fruit[(fruit['Month'].astype(str)==month)]\n",
    "fruit = list(set(fruit.plant))\n",
    "random.shuffle(fruit)\n",
    "\n",
    "pictures = os.listdir(\"plants/\")\n",
    "\n",
    "answers = {}\n",
    "\n",
    "for f in fruit:\n",
    "    print(\"=======================================\")\n",
    "    print(f\"{fruit.index(f)+1} of {len(fruit)}\")\n",
    "    pics = [x for x in pictures if x[0:2]==f][0:6]\n",
    "    random.shuffle(pics)\n",
    "    if len(pics) > 0:\n",
    "        fig, axarr = plt.subplots(2,3, figsize=(18, 12))\n",
    "        for i in range(0,len(pics)):\n",
    "            img = mpimg.imread(f\"plants/{pics[i]}\")\n",
    "            if i < 3:\n",
    "                row, col = 0, i\n",
    "            else:\n",
    "                row, col = 1, i - 3\n",
    "            axarr[row,col].imshow(img)\n",
    "        plt.show()\n",
    "        choice = input(\"Enter 2-letter code of plant: \")\n",
    "        entry = {f : choice}\n",
    "        answers.update(entry)\n",
    "        plt.close()\n",
    "        clear_output(wait=True)\n",
    "    else:\n",
    "        print(f\"no photos available for {f}\")\n",
    "\n",
    "df = pd.DataFrame(answers.items(), columns=['key', 'response'])\n",
    "df['response'] = df['response'].str.upper()\n",
    "df['score'], df['month'], df['ohh'] = 1, month, monero\n",
    "df.loc[df['key']!=df['response'], \"score\"] = 0\n",
    "\n",
    "score = round(df[\"score\"].sum()/len(df), 3)\n",
    "print(f\"Your score: {score}\")\n",
    "print(\"Goodbye, and have a nice day!\")\n",
    "\n",
    "df = df[['month','ohh','score','key','response']]\n",
    "df"
   ]
  }
 ],
 "metadata": {
  "celltoolbar": "Tags",
  "kernelspec": {
   "display_name": "Python 3 (ipykernel)",
   "language": "python",
   "name": "python3"
  },
  "language_info": {
   "codemirror_mode": {
    "name": "ipython",
    "version": 3
   },
   "file_extension": ".py",
   "mimetype": "text/x-python",
   "name": "python",
   "nbconvert_exporter": "python",
   "pygments_lexer": "ipython3",
   "version": "3.8.13"
  }
 },
 "nbformat": 4,
 "nbformat_minor": 5
}
